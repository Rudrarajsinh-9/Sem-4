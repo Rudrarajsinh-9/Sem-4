{
 "cells": [
  {
   "cell_type": "markdown",
   "metadata": {},
   "source": [
    "\n",
    "<a href='https://www.darshan.ac.in/'> <img src='https://www.darshan.ac.in/Content/media/DU_Logo.svg' width=\"250\" height=\"300\"/></a>\n",
    "<pre>\n",
    "<center><b><h1>Python Programming - 2301CS404</b></center>\n",
    "<center><b><h1>Lab - 4</b></center>    \n",
    "<pre>"
   ]
  },
  {
   "cell_type": "markdown",
   "metadata": {},
   "source": [
    "# String"
   ]
  },
  {
   "cell_type": "markdown",
   "metadata": {},
   "source": [
    "### 01) WAP to check whether the given string is palindrome or not."
   ]
  },
  {
   "cell_type": "code",
   "execution_count": 2,
   "metadata": {},
   "outputs": [
    {
     "name": "stdin",
     "output_type": "stream",
     "text": [
      "Enter String: teacher\n"
     ]
    },
    {
     "name": "stdout",
     "output_type": "stream",
     "text": [
      "String Are Not Palindrome\n"
     ]
    }
   ],
   "source": [
    "str = input(\"Enter String:\")\n",
    "rev = str[::-1]\n",
    "if(rev==str):\n",
    " print(\"String Are Palindrome\")\n",
    "else:\n",
    " print(\"String Are Not Palindrome\")"
   ]
  },
  {
   "cell_type": "markdown",
   "metadata": {},
   "source": [
    "### 02) WAP to reverse the words in the given string."
   ]
  },
  {
   "cell_type": "code",
   "execution_count": 10,
   "metadata": {},
   "outputs": [
    {
     "name": "stdin",
     "output_type": "stream",
     "text": [
      "Enter String: dad\n"
     ]
    },
    {
     "name": "stdout",
     "output_type": "stream",
     "text": [
      "dad\n"
     ]
    }
   ],
   "source": [
    "str = input(\"Enter String:\")\n",
    "rev = str[::-1]\n",
    "print(rev)"
   ]
  },
  {
   "cell_type": "markdown",
   "metadata": {},
   "source": [
    "### 03) WAP to remove ith character from given string."
   ]
  },
  {
   "cell_type": "code",
   "execution_count": 14,
   "metadata": {},
   "outputs": [
    {
     "name": "stdin",
     "output_type": "stream",
     "text": [
      "Enter String: dadr\n",
      "Enter Number That You Want To Remove: 3\n"
     ]
    },
    {
     "name": "stdout",
     "output_type": "stream",
     "text": [
      "dad\n"
     ]
    }
   ],
   "source": [
    "str = input(\"Enter String:\")\n",
    "i = int(input(\"Enter Number That You Want To Remove:\"))\n",
    "ans = str[0:i:] + str[i+1::]\n",
    "print(ans)"
   ]
  },
  {
   "cell_type": "markdown",
   "metadata": {},
   "source": [
    "### 04) WAP to find length of string without using len function."
   ]
  },
  {
   "cell_type": "code",
   "execution_count": 16,
   "metadata": {},
   "outputs": [
    {
     "name": "stdin",
     "output_type": "stream",
     "text": [
      "Enter String: daddy\n"
     ]
    },
    {
     "name": "stdout",
     "output_type": "stream",
     "text": [
      "5\n"
     ]
    }
   ],
   "source": [
    "str = input(\"Enter String:\")\n",
    "ans = 0\n",
    "for i in str:\n",
    " ans+=1\n",
    "print(ans)"
   ]
  },
  {
   "cell_type": "markdown",
   "metadata": {},
   "source": [
    "### 05) WAP to print even length word in string."
   ]
  },
  {
   "cell_type": "code",
   "execution_count": 28,
   "metadata": {},
   "outputs": [
    {
     "name": "stdin",
     "output_type": "stream",
     "text": [
      "Enter String: hhhhhh hhhh\n"
     ]
    },
    {
     "name": "stdout",
     "output_type": "stream",
     "text": [
      "['hhhhhh', 'hhhh']\n",
      "hhhhhh\n",
      "hhhh\n"
     ]
    }
   ],
   "source": [
    "str = input(\"Enter String:\")\n",
    "l = str.split(\" \")\n",
    "print(l)\n",
    "for i in l:\n",
    "    if (len(i)%2==0):\n",
    "        print (i)"
   ]
  },
  {
   "cell_type": "markdown",
   "metadata": {},
   "source": [
    "### 06) WAP to count numbers of vowels in given string."
   ]
  },
  {
   "cell_type": "code",
   "execution_count": 36,
   "metadata": {},
   "outputs": [
    {
     "name": "stdin",
     "output_type": "stream",
     "text": [
      "Enter String: yashrajsinh\n"
     ]
    },
    {
     "name": "stdout",
     "output_type": "stream",
     "text": [
      "3\n"
     ]
    }
   ],
   "source": [
    "str = input(\"Enter String:\")\n",
    "ans = 0\n",
    "str = str.lower()\n",
    "for i in str:\n",
    " if(i=='a' or i=='e' or i=='i' or i=='o' or i=='u'):\n",
    "    ans+=1\n",
    "print(ans)"
   ]
  },
  {
   "cell_type": "markdown",
   "metadata": {},
   "source": [
    "### 07) WAP to capitalize the first and last character of each word in a string."
   ]
  },
  {
   "cell_type": "code",
   "execution_count": 48,
   "metadata": {},
   "outputs": [
    {
     "name": "stdin",
     "output_type": "stream",
     "text": [
      "Enter String: rudrarajsinh\n"
     ]
    },
    {
     "name": "stdout",
     "output_type": "stream",
     "text": [
      "RudrarajsinH \n"
     ]
    }
   ],
   "source": [
    "str = input(\"Enter String:\")\n",
    "ans = \"\"\n",
    "final = \"\"\n",
    "s = str.split(\" \")\n",
    "for i in s:\n",
    " ans = i[0:1:].upper() + i[1:len(i)-1:] + i[len(i)-1::].upper()\n",
    " final += ans + \" \"\n",
    "print(final)"
   ]
  },
  {
   "cell_type": "markdown",
   "metadata": {},
   "source": [
    "### 08) WAP to convert given array to string."
   ]
  },
  {
   "cell_type": "code",
   "execution_count": 40,
   "metadata": {},
   "outputs": [
    {
     "name": "stdout",
     "output_type": "stream",
     "text": [
      "Hello My Name is Rudrarajsinh \n"
     ]
    }
   ],
   "source": [
    "arr = [\"Hello\",\"My\",\"Name\",\"is\",\"Rudrarajsinh\"]\n",
    "str = \"\"\n",
    "for i in arr:\n",
    " str+=i+\" \"\n",
    "print(str)"
   ]
  },
  {
   "cell_type": "markdown",
   "metadata": {},
   "source": [
    "### 09) Check if the password and confirm password is same or not. \n",
    "### In case of only case's mistake, show the error message."
   ]
  },
  {
   "cell_type": "code",
   "execution_count": 56,
   "metadata": {},
   "outputs": [
    {
     "name": "stdin",
     "output_type": "stream",
     "text": [
      "Enter passsword:  jadeja\n",
      "Confirm password:  123\n"
     ]
    },
    {
     "name": "stdout",
     "output_type": "stream",
     "text": [
      "Incorrect Password.\n"
     ]
    }
   ],
   "source": [
    "pass1 = input(\"Enter passsword: \")\n",
    "pass2 = input(\"Confirm password: \")\n",
    "if pass1 == pass2:\n",
    "    print(\"correct\")\n",
    "elif pass1.lower() == pass2.lower():\n",
    "    print(\"password Must be casesensetive.\")\n",
    "else:\n",
    "    print(\"Incorrect Password.\")"
   ]
  },
  {
   "cell_type": "markdown",
   "metadata": {},
   "source": [
    "### 10) : Display credit card number. \n",
    "### card no. : 1234 5678 9012 3456\n",
    "### display as  : **** **** **** 3456"
   ]
  },
  {
   "cell_type": "code",
   "execution_count": 64,
   "metadata": {},
   "outputs": [
    {
     "name": "stdin",
     "output_type": "stream",
     "text": [
      "Enter card number:  1237458365863\n"
     ]
    },
    {
     "name": "stdout",
     "output_type": "stream",
     "text": [
      "**** **** **** 5863\n"
     ]
    }
   ],
   "source": [
    "Number = input(\"Enter card number: \")\n",
    "\n",
    "Number_card = \"**** **** **** \" + Number[-4:]\n",
    "\n",
    "print(Number_card)"
   ]
  },
  {
   "cell_type": "markdown",
   "metadata": {},
   "source": [
    "### 11) : Checking if the two strings are Anagram or not.\n",
    "### s1 = decimal and s2 = medical are Anagram"
   ]
  },
  {
   "cell_type": "code",
   "execution_count": 80,
   "metadata": {},
   "outputs": [
    {
     "name": "stdin",
     "output_type": "stream",
     "text": [
      "Enter s1:  bablo\n",
      "Enter s2:  pablo\n"
     ]
    },
    {
     "name": "stdout",
     "output_type": "stream",
     "text": [
      "\"bablo\" and \"pablo\" are not Anagrams.\n"
     ]
    }
   ],
   "source": [
    "s1 = input(\"Enter s1: \")\n",
    "s2 = input(\"Enter s2: \")\n",
    "\n",
    "s1 = s1.replace(\" \", \"\").lower()\n",
    "s2 = s2.replace(\" \", \"\").lower()\n",
    "\n",
    "if sorted(s1) == sorted(s2):\n",
    "    print(f'\"{s1}\" and \"{s2}\" are Anagrams.')\n",
    "else:\n",
    "    print(f'\"{s1}\" and \"{s2}\" are not Anagrams.')\n"
   ]
  },
  {
   "cell_type": "markdown",
   "metadata": {},
   "source": [
    "### 12) : Rearrange the given string. First lowercase then uppercase alphabets.\n",
    "### input : EHlsarwiwhtwMV\n",
    "### output : lsarwiwhtwEHMV"
   ]
  },
  {
   "cell_type": "code",
   "execution_count": 84,
   "metadata": {},
   "outputs": [
    {
     "name": "stdin",
     "output_type": "stream",
     "text": [
      "Enter s1:  hdfsjJGKBJGKEJhdbd\n"
     ]
    },
    {
     "name": "stdout",
     "output_type": "stream",
     "text": [
      "hdfsjhdbdJGKBJGKEJ\n"
     ]
    }
   ],
   "source": [
    "input_string = input(\"Enter s1: \")\n",
    "\n",
    "lowercase = \"\".join([char for char in input_string if char.islower()])\n",
    "uppercase = \"\".join([char for char in input_string if char.isupper()])\n",
    "\n",
    "output_string = lowercase + uppercase\n",
    "\n",
    "print(output_string)\n"
   ]
  }
 ],
 "metadata": {
  "kernelspec": {
   "display_name": "Python 3 (ipykernel)",
   "language": "python",
   "name": "python3"
  },
  "language_info": {
   "codemirror_mode": {
    "name": "ipython",
    "version": 3
   },
   "file_extension": ".py",
   "mimetype": "text/x-python",
   "name": "python",
   "nbconvert_exporter": "python",
   "pygments_lexer": "ipython3",
   "version": "3.12.7"
  },
  "vscode": {
   "interpreter": {
    "hash": "31f2aee4e71d21fbe5cf8b01ff0e069b9275f58929596ceb00d14d90e3e16cd6"
   }
  }
 },
 "nbformat": 4,
 "nbformat_minor": 4
}
