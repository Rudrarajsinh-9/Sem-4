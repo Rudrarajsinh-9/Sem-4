{
 "cells": [
  {
   "cell_type": "markdown",
   "metadata": {},
   "source": [
    "\n",
    "<a href='https://www.darshan.ac.in/'> <img src='https://www.darshan.ac.in/Content/media/DU_Logo.svg' width=\"250\" height=\"300\"/></a>\n",
    "<pre>\n",
    "<center><b><h1>Python Programming - 2301CS404</b></center>\n",
    "<center><b><h1>Lab - 2</b></center>    \n",
    "<pre>"
   ]
  },
  {
   "cell_type": "markdown",
   "metadata": {},
   "source": [
    "# if..else.."
   ]
  },
  {
   "cell_type": "markdown",
   "metadata": {},
   "source": [
    "### 01) WAP to check whether the given number is positive or negative."
   ]
  },
  {
   "cell_type": "code",
   "execution_count": 2,
   "metadata": {},
   "outputs": [
    {
     "name": "stdin",
     "output_type": "stream",
     "text": [
      "Enter a number :  2\n"
     ]
    },
    {
     "name": "stdout",
     "output_type": "stream",
     "text": [
      "Number is positive\n"
     ]
    }
   ],
   "source": [
    "n = int(input(\"Enter a number : \"))\n",
    "if n>0:\n",
    "    print(\"Number is positive\")\n",
    "elif n==0:\n",
    "    print(\"Number is neither positive nor negative\")\n",
    "else:\n",
    "    print(\"Number is negative\")"
   ]
  },
  {
   "cell_type": "markdown",
   "metadata": {},
   "source": [
    "### 02) WAP to check whether the given number is odd or even."
   ]
  },
  {
   "cell_type": "code",
   "execution_count": 4,
   "metadata": {},
   "outputs": [
    {
     "name": "stdin",
     "output_type": "stream",
     "text": [
      "Enter a number :  3\n"
     ]
    },
    {
     "name": "stdout",
     "output_type": "stream",
     "text": [
      "Number is Odd\n"
     ]
    }
   ],
   "source": [
    "n=int(input(\"Enter a number : \"))\n",
    "if n%2==0:\n",
    "    print(\"Number is Even\")\n",
    "else:\n",
    "    print(\"Number is Odd\")"
   ]
  },
  {
   "cell_type": "markdown",
   "metadata": {},
   "source": [
    "### 03) WAP to find out largest number from given two numbers using simple if and ternary operator."
   ]
  },
  {
   "cell_type": "code",
   "execution_count": 6,
   "metadata": {},
   "outputs": [
    {
     "name": "stdin",
     "output_type": "stream",
     "text": [
      "Enter value of a :  3\n",
      "Enter value of b :  5\n"
     ]
    },
    {
     "name": "stdout",
     "output_type": "stream",
     "text": [
      "Maximum is b =  5\n",
      "Maximum is b (ternary) =  5\n"
     ]
    }
   ],
   "source": [
    "a=int(input(\"Enter value of a : \"))\n",
    "b=int(input(\"Enter value of b : \"))\n",
    "if a>b:\n",
    "    print(\"Maximum is a = \",a)\n",
    "elif a==b:\n",
    "    print(\"Both are equal\")\n",
    "else:\n",
    "    print(\"Maximum is b = \",b)\n",
    "\n",
    "c = print(\"Maximum is a (ternary) = \",a) if(a>b) else print(\"Maximum is b (ternary) = \",b)"
   ]
  },
  {
   "cell_type": "markdown",
   "metadata": {},
   "source": [
    "### 04) WAP to find out largest number from given three numbers."
   ]
  },
  {
   "cell_type": "code",
   "execution_count": 8,
   "metadata": {},
   "outputs": [
    {
     "name": "stdin",
     "output_type": "stream",
     "text": [
      "Enter value of a :  2\n",
      "Enter value of b :  4\n",
      "Enter value of c :  6\n"
     ]
    },
    {
     "name": "stdout",
     "output_type": "stream",
     "text": [
      "Maximum is c =  6\n"
     ]
    }
   ],
   "source": [
    "a = int(input(\"Enter value of a : \"))\n",
    "b = int(input(\"Enter value of b : \"))\n",
    "c = int(input(\"Enter value of c : \"))\n",
    "if a>b:\n",
    "    if a>c:\n",
    "        print(\"Maximum is a = \",a)\n",
    "    else:\n",
    "        print(\"Maximum is c = \",c)\n",
    "else:\n",
    "    if b>c:\n",
    "        print(\"Maximum is b = \",b)\n",
    "    else:\n",
    "        print(\"Maximum is c = \",c)"
   ]
  },
  {
   "cell_type": "markdown",
   "metadata": {},
   "source": [
    "### 05) WAP to check whether the given year is leap year or not.\n",
    "[If a year can be divisible by 4 but not divisible by 100 then it is leap year but if it is divisible by 400 then it is leap year]"
   ]
  },
  {
   "cell_type": "code",
   "execution_count": 10,
   "metadata": {},
   "outputs": [
    {
     "name": "stdin",
     "output_type": "stream",
     "text": [
      "Enter a year :  2008\n"
     ]
    },
    {
     "name": "stdout",
     "output_type": "stream",
     "text": [
      "Is a Leap Year\n"
     ]
    }
   ],
   "source": [
    "n = int(input(\"Enter a year : \"))\n",
    "if (n%4==0 and n%100!=0) or (n%400==0):\n",
    "    print(\"Is a Leap Year\")\n",
    "else:\n",
    "    print(\"Not a Leap Year\")"
   ]
  },
  {
   "cell_type": "markdown",
   "metadata": {},
   "source": [
    "### 06) WAP in python to display the name of the day according to the number given by the user."
   ]
  },
  {
   "cell_type": "code",
   "execution_count": 12,
   "metadata": {},
   "outputs": [
    {
     "name": "stdin",
     "output_type": "stream",
     "text": [
      "Enter a number according to day of the week :  6\n"
     ]
    },
    {
     "name": "stdout",
     "output_type": "stream",
     "text": [
      "Saturday\n"
     ]
    }
   ],
   "source": [
    "n = int(input(\"Enter a number according to day of the week : \"))\n",
    "if n==1 : \n",
    "    print(\"Monday\")\n",
    "elif n==2:\n",
    "    print(\"Tuesday\")\n",
    "elif n==3:\n",
    "    print(\"Wednesday\")\n",
    "elif n==4:\n",
    "    print(\"Thursday\")\n",
    "elif n==5:\n",
    "    print(\"Friday\")\n",
    "elif n==6:\n",
    "    print(\"Saturday\")\n",
    "elif n==7:\n",
    "    print(\"Sunday\")\n",
    "else:\n",
    "    print(\"Enter valid Number\")"
   ]
  },
  {
   "cell_type": "markdown",
   "metadata": {},
   "source": [
    "### 07) WAP to implement simple calculator which performs (add,sub,mul,div) of two no. based on user input."
   ]
  },
  {
   "cell_type": "code",
   "execution_count": 14,
   "metadata": {},
   "outputs": [
    {
     "name": "stdin",
     "output_type": "stream",
     "text": [
      "Enter value of a :  2\n",
      "Enter value of b :  3\n"
     ]
    },
    {
     "name": "stdout",
     "output_type": "stream",
     "text": [
      "Enter 1 for addition\n",
      "Enter 2 for subtraction\n",
      "Enter 3 for multiplication\n",
      "Enter 4 for division\n"
     ]
    },
    {
     "name": "stdin",
     "output_type": "stream",
     "text": [
      "Enter your choice :  4\n"
     ]
    },
    {
     "name": "stdout",
     "output_type": "stream",
     "text": [
      "Quotient =  0.6666666666666666\n"
     ]
    }
   ],
   "source": [
    "a = int(input(\"Enter value of a : \"))\n",
    "b = int(input(\"Enter value of b : \"))\n",
    "print(\"Enter 1 for addition\")\n",
    "print(\"Enter 2 for subtraction\")\n",
    "print(\"Enter 3 for multiplication\")\n",
    "print(\"Enter 4 for division\")\n",
    "choice = int(input(\"Enter your choice : \"))\n",
    "match choice:\n",
    "    case 1:\n",
    "        sum = a+b\n",
    "        print(\"Sum = \",sum)\n",
    "    case 2:\n",
    "        sub = a-b\n",
    "        print(\"Difference = \",sub)\n",
    "    case 3:\n",
    "        mul = a*b\n",
    "        print(\"Product = \",mul)\n",
    "    case 4:\n",
    "        div = a/b;\n",
    "        print(\"Quotient = \",div)\n",
    "    case _:\n",
    "        print(\"Invalid choice\")"
   ]
  },
  {
   "cell_type": "markdown",
   "metadata": {},
   "source": [
    "### 08) WAP to read marks of five subjects. Calculate percentage and print class accordingly. \n",
    "Fail below 35 </br>\n",
    "Pass Class between 35 to 45 </br>\n",
    "Second Class</br>\n",
    "between 45 to 60</br>\n",
    "First Class between 60 to 70</br> \n",
    "Distinction if more than 70"
   ]
  },
  {
   "cell_type": "code",
   "execution_count": 16,
   "metadata": {},
   "outputs": [
    {
     "name": "stdin",
     "output_type": "stream",
     "text": [
      "Enter marks of Maths :  34\n",
      "Enter marks of Physics :  36\n",
      "Enter marks of chemistry :  99\n",
      "Enter marks of English :  88\n",
      "Enter marks of Computer :  89\n"
     ]
    },
    {
     "name": "stdout",
     "output_type": "stream",
     "text": [
      "First Class with  69.2 percentage"
     ]
    }
   ],
   "source": [
    "maths = int(input(\"Enter marks of Maths : \"))\n",
    "physics = int(input(\"Enter marks of Physics : \"))\n",
    "chemistry = int(input(\"Enter marks of chemistry : \"))\n",
    "english = int(input(\"Enter marks of English : \"))\n",
    "computer = int(input(\"Enter marks of Computer : \"))\n",
    "n = (maths+physics+chemistry+english+computer)/5.0\n",
    "if n<0 or n>100:\n",
    "  print(\"Invalid marks\")  \n",
    "elif n<35:\n",
    "    print(\"Fail with \",n,end=\" percentage\")\n",
    "elif n<45:\n",
    "    print(\"Pass Class with \",n,end=\" percentage\")\n",
    "elif n<60:\n",
    "    print(\"Second Class with \",n,end=\" percentage\")\n",
    "elif n<70:\n",
    "    print(\"First Class with \",n,end=\" percentage\")\n",
    "elif n>70:\n",
    "    print(\"Distinction with \",n,end=\" percentage\")"
   ]
  },
  {
   "cell_type": "markdown",
   "metadata": {},
   "source": [
    "### 09) Three sides of a triangle are entered through the keyboard, WAP to check whether the triangle is isosceles, equilateral, scalene or right-angled triangle."
   ]
  },
  {
   "cell_type": "code",
   "execution_count": 18,
   "metadata": {},
   "outputs": [
    {
     "name": "stdin",
     "output_type": "stream",
     "text": [
      "Enter length of side1 :  3\n",
      "Enter length of side2 :  5\n",
      "Enter length of side3 :  4\n"
     ]
    },
    {
     "name": "stdout",
     "output_type": "stream",
     "text": [
      "Right-angled Scalene Triangle\n"
     ]
    }
   ],
   "source": [
    "a = int(input(\"Enter length of side1 : \"))\n",
    "b = int(input(\"Enter length of side2 : \"))\n",
    "c = int(input(\"Enter length of side3 : \"))\n",
    "if a>b and a>c:\n",
    "    if pow(a,2) == (pow(b,2)+pow(c,2)):\n",
    "        print(\"Right-angled\",end=\" \")\n",
    "if b>a and b>c:\n",
    "    if pow(b,2) == (pow(a,2)+pow(c,2)):\n",
    "        print(\"Right-angled\",end=\" \")\n",
    "if c>a and c>b:\n",
    "    if pow(c,2) == (pow(a,2)+pow(b,2)):\n",
    "        print(\"Right-angled\",end=\" \")\n",
    "if a==b and b==c and a==c:\n",
    "    print(\"Equilateral triangle\")\n",
    "elif a==b or b==c or a==c:\n",
    "    print(\"Iscosceles Triangle\")\n",
    "else:\n",
    "    print(\"Scalene Triangle\")"
   ]
  },
  {
   "cell_type": "markdown",
   "metadata": {},
   "source": [
    "### 10) WAP to find the second largest number among three user input numbers."
   ]
  },
  {
   "cell_type": "code",
   "execution_count": 20,
   "metadata": {},
   "outputs": [
    {
     "name": "stdin",
     "output_type": "stream",
     "text": [
      "Enter a number :  9\n",
      "Enter a number :  5\n",
      "Enter a number :  2\n"
     ]
    },
    {
     "name": "stdout",
     "output_type": "stream",
     "text": [
      "Second largest =  5\n"
     ]
    }
   ],
   "source": [
    "a = int(input(\"Enter a number : \"))\n",
    "b = int(input(\"Enter a number : \"))\n",
    "c = int(input(\"Enter a number : \"))\n",
    "if (a>b and b>c) or (c>b and b>a):\n",
    "    print(\"Second largest = \",b)\n",
    "if (b>a and a>c) or (c>a and a>b):\n",
    "    print(\"Second largest = \",a)\n",
    "if (b>c and c>a) or (a>c and c>b):\n",
    "    print(\"Second largest = \",c)"
   ]
  },
  {
   "cell_type": "markdown",
   "metadata": {},
   "source": [
    "### 11) WAP to calculate electricity bill based on following criteria. Which takes the unit from the user.\n",
    "a. First 1 to 50 units – Rs. 2.60/unit</br>\n",
    "b. Next 50 to 100 units – Rs. 3.25/unit</br>\n",
    "c. Next 100 to 200 units – Rs. 5.26/unit</br>\n",
    "d. above 200 units – Rs. 8.45/unit"
   ]
  },
  {
   "cell_type": "code",
   "execution_count": 23,
   "metadata": {},
   "outputs": [
    {
     "name": "stdin",
     "output_type": "stream",
     "text": [
      "Enter total units :  55\n"
     ]
    },
    {
     "name": "stdout",
     "output_type": "stream",
     "text": [
      "Total Cost =  146.25\n"
     ]
    }
   ],
   "source": [
    "unit = int(input(\"Enter total units : \"))\n",
    "if unit<=50:\n",
    "    cost = unit*2.6\n",
    "elif unit<=100:\n",
    "    cost = 50*2.6 + (unit-50)*3.25\n",
    "elif unit<=200:\n",
    "    cost = 50*2.6 + 50*3.25 + (unit-100)*5.26\n",
    "else:\n",
    "    cost = 50*2.6 + 50*3.25 + 100*5.26 + (unit-200)*8.45\n",
    "print(\"Total Cost = \",cost)"
   ]
  }
 ],
 "metadata": {
  "kernelspec": {
   "display_name": "Python 3 (ipykernel)",
   "language": "python",
   "name": "python3"
  },
  "language_info": {
   "codemirror_mode": {
    "name": "ipython",
    "version": 3
   },
   "file_extension": ".py",
   "mimetype": "text/x-python",
   "name": "python",
   "nbconvert_exporter": "python",
   "pygments_lexer": "ipython3",
   "version": "3.12.7"
  }
 },
 "nbformat": 4,
 "nbformat_minor": 4
}
