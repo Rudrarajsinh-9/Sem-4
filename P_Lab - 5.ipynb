{
 "cells": [
  {
   "cell_type": "markdown",
   "metadata": {},
   "source": [
    "\n",
    "<a href='https://www.darshan.ac.in/'> <img src='https://www.darshan.ac.in/Content/media/DU_Logo.svg' width=\"250\" height=\"300\"/></a>\n",
    "<pre>\n",
    "<center><b><h1>Python Programming - 2301CS404</b></center>\n",
    "<center><b><h1>Lab - 5</b></center>    \n",
    "<pre>"
   ]
  },
  {
   "cell_type": "markdown",
   "metadata": {},
   "source": [
    "# List"
   ]
  },
  {
   "cell_type": "markdown",
   "metadata": {},
   "source": [
    "### 01) WAP to find sum of all the elements in a List."
   ]
  },
  {
   "cell_type": "code",
   "execution_count": 2,
   "metadata": {},
   "outputs": [
    {
     "name": "stdout",
     "output_type": "stream",
     "text": [
      "Sum:150\n"
     ]
    }
   ],
   "source": [
    "list = [10,20,30,40,50]\n",
    "sum = 0\n",
    "for i in list:\n",
    " sum+=i\n",
    "else:\n",
    " print(f\"Sum:{sum}\")"
   ]
  },
  {
   "cell_type": "markdown",
   "metadata": {},
   "source": [
    "### 02) WAP to find largest element in a List."
   ]
  },
  {
   "cell_type": "code",
   "execution_count": 4,
   "metadata": {},
   "outputs": [
    {
     "name": "stdout",
     "output_type": "stream",
     "text": [
      "60\n"
     ]
    }
   ],
   "source": [
    "list = [10,50,40,35,60,24]\n",
    "m=max(list)\n",
    "print(m)"
   ]
  },
  {
   "cell_type": "markdown",
   "metadata": {},
   "source": [
    "### 03) WAP to find the length of a List."
   ]
  },
  {
   "cell_type": "code",
   "execution_count": 8,
   "metadata": {},
   "outputs": [
    {
     "name": "stdout",
     "output_type": "stream",
     "text": [
      "The length of the list is: 5\n"
     ]
    }
   ],
   "source": [
    "list = [10, 20, 30, 40, 50]\n",
    "\n",
    "length = len(list)\n",
    "\n",
    "print(\"The length of the list is:\", length)\n"
   ]
  },
  {
   "cell_type": "markdown",
   "metadata": {},
   "source": [
    "### 04) WAP to interchange first and last elements in a list."
   ]
  },
  {
   "cell_type": "code",
   "execution_count": 12,
   "metadata": {},
   "outputs": [
    {
     "name": "stdout",
     "output_type": "stream",
     "text": [
      "[7, 4, 6, 3, 1]\n"
     ]
    }
   ],
   "source": [
    "l1 = [1,4,6,3,7]\n",
    "\n",
    "l1[0],l1[4] = l1[4],l1[0]\n",
    "\n",
    "print(l1)"
   ]
  },
  {
   "cell_type": "markdown",
   "metadata": {},
   "source": [
    "### 05) WAP to split the List into two parts and append the first part to the end."
   ]
  },
  {
   "cell_type": "code",
   "execution_count": 14,
   "metadata": {},
   "outputs": [
    {
     "name": "stdout",
     "output_type": "stream",
     "text": [
      "Original list: [10, 20, 30, 40, 50]\n",
      "Modified list: [30, 40, 50, 10, 20]\n"
     ]
    }
   ],
   "source": [
    "list = [10, 20, 30, 40, 50]\n",
    "\n",
    "mid = len(list) // 2\n",
    "\n",
    "first = list[:mid]\n",
    "second = list[mid:]\n",
    "\n",
    "result = second + first\n",
    "\n",
    "print(\"Original list:\", list)\n",
    "print(\"Modified list:\", result)\n"
   ]
  },
  {
   "cell_type": "markdown",
   "metadata": {},
   "source": [
    "### 06) WAP to interchange the elements on two positions entered by a user."
   ]
  },
  {
   "cell_type": "code",
   "execution_count": 22,
   "metadata": {},
   "outputs": [
    {
     "name": "stdout",
     "output_type": "stream",
     "text": [
      "Original list: [10, 20, 30, 40, 50]\n"
     ]
    },
    {
     "name": "stdin",
     "output_type": "stream",
     "text": [
      "Enter the first position (1-based index):  6\n",
      "Enter the second position (1-based index):  7\n"
     ]
    },
    {
     "name": "stdout",
     "output_type": "stream",
     "text": [
      "Invalid index\n"
     ]
    }
   ],
   "source": [
    "list = [10, 20, 30, 40, 50]\n",
    "\n",
    "print(\"Original list:\", list)\n",
    "\n",
    "pos1 = int(input(\"Enter the first position (1-based index): \")) - 1\n",
    "pos2 = int(input(\"Enter the second position (1-based index): \")) - 1\n",
    "\n",
    "if pos1 >= 0 and pos1 < len(list) and pos2 >= 0 and pos2<len(list):\n",
    "    \n",
    "    list[pos1], list[pos2] = list[pos2], list[pos1]\n",
    "    print(\"Modified list:\", list)\n",
    "else:\n",
    "    print(\"Invalid index\")"
   ]
  },
  {
   "cell_type": "markdown",
   "metadata": {},
   "source": [
    "### 07) WAP to reverse the list entered by user."
   ]
  },
  {
   "cell_type": "code",
   "execution_count": 26,
   "metadata": {},
   "outputs": [
    {
     "name": "stdin",
     "output_type": "stream",
     "text": [
      "Enter space seperated string :  1 2 3 4 5\n"
     ]
    },
    {
     "name": "stdout",
     "output_type": "stream",
     "text": [
      "[1, 2, 3, 4, 5]\n",
      "[5, 4, 3, 2, 1]\n"
     ]
    }
   ],
   "source": [
    "l1 = input(\"Enter space seperated string : \").split()\n",
    "l1 = [int(i) for i in l1]\n",
    "print(l1)\n",
    "l1.reverse()\n",
    "print(l1)"
   ]
  },
  {
   "cell_type": "markdown",
   "metadata": {},
   "source": [
    "### 08) WAP to print even numbers in a list."
   ]
  },
  {
   "cell_type": "code",
   "execution_count": 43,
   "metadata": {},
   "outputs": [
    {
     "name": "stdin",
     "output_type": "stream",
     "text": [
      "Enter a string:  1 3 5 7\n"
     ]
    },
    {
     "name": "stdout",
     "output_type": "stream",
     "text": [
      "[]\n"
     ]
    }
   ],
   "source": [
    "l1 = input(\"Enter a string: \").split()\n",
    "l1 = [int(i) for i in l1]\n",
    "\n",
    "l = [l1[i]for i in range (len(l1)) if l1[i]%2==0]\n",
    "print(l)"
   ]
  },
  {
   "cell_type": "markdown",
   "metadata": {},
   "source": [
    "### 09) WAP to count unique items in a list."
   ]
  },
  {
   "cell_type": "code",
   "execution_count": 2,
   "metadata": {},
   "outputs": [
    {
     "name": "stdin",
     "output_type": "stream",
     "text": [
      "Enter space separated values for list : 1 2 3 4 5\n"
     ]
    },
    {
     "name": "stdout",
     "output_type": "stream",
     "text": [
      "Count = 5\n"
     ]
    }
   ],
   "source": [
    "n = input(\"Enter space separated values for list :\")\n",
    "li = [int(i) for i in n.split()]\n",
    "count = len(set(li))\n",
    "print(\"Count =\",count)"
   ]
  },
  {
   "cell_type": "markdown",
   "metadata": {},
   "source": [
    "### 10) WAP to copy a list."
   ]
  },
  {
   "cell_type": "code",
   "execution_count": 4,
   "metadata": {},
   "outputs": [
    {
     "name": "stdin",
     "output_type": "stream",
     "text": [
      "Enter space separated values for list :  1 2 3 4 5 6\n"
     ]
    },
    {
     "name": "stdout",
     "output_type": "stream",
     "text": [
      "Copy =  ['1', '2', '3', '4', '5', '6']\n"
     ]
    }
   ],
   "source": [
    "n = input(\"Enter space separated values for list : \")\n",
    "l1 = [i for i in n.split()]\n",
    "l2 = l1.copy()\n",
    "print(\"Copy = \",l2)"
   ]
  },
  {
   "cell_type": "markdown",
   "metadata": {},
   "source": [
    "### 11) WAP to print all odd numbers in a given range."
   ]
  },
  {
   "cell_type": "code",
   "execution_count": 6,
   "metadata": {},
   "outputs": [
    {
     "name": "stdin",
     "output_type": "stream",
     "text": [
      "Enter lower range :  2\n",
      "Enter upper range :  5\n"
     ]
    },
    {
     "name": "stdout",
     "output_type": "stream",
     "text": [
      "[3, 5]\n"
     ]
    }
   ],
   "source": [
    "lower = int(input(\"Enter lower range : \"))\n",
    "upper = int(input(\"Enter upper range : \"))\n",
    "li = [i for i in range(lower,upper+1) if i%2==1]\n",
    "print(li)"
   ]
  },
  {
   "cell_type": "markdown",
   "metadata": {},
   "source": [
    "### 12) WAP to count occurrences of an element in a list."
   ]
  },
  {
   "cell_type": "code",
   "execution_count": 8,
   "metadata": {},
   "outputs": [
    {
     "name": "stdin",
     "output_type": "stream",
     "text": [
      "Enter space separated values :  4 3 2 5 6\n",
      "Enter element that you want to count :  2 3 4\n"
     ]
    },
    {
     "name": "stdout",
     "output_type": "stream",
     "text": [
      "Count of 2 3 4 =  0\n"
     ]
    }
   ],
   "source": [
    "n = input(\"Enter space separated values : \")\n",
    "li = [i for i in n.split()]\n",
    "element = input(\"Enter element that you want to count : \")\n",
    "count = li.count(element)\n",
    "print(f\"Count of {element} = \",count) "
   ]
  },
  {
   "cell_type": "markdown",
   "metadata": {},
   "source": [
    "### 13) WAP to find second largest number in a list."
   ]
  },
  {
   "cell_type": "code",
   "execution_count": 10,
   "metadata": {},
   "outputs": [
    {
     "name": "stdin",
     "output_type": "stream",
     "text": [
      "Enter space separated values :  2 4 3 6 4\n"
     ]
    },
    {
     "name": "stdout",
     "output_type": "stream",
     "text": [
      "Second Maximum =  4\n"
     ]
    }
   ],
   "source": [
    "n = input(\"Enter space separated values : \")\n",
    "li = [int(i) for i in n.split()]\n",
    "if len(li)==li.count(li[0]):\n",
    "    print(\"Second Maximum not found\")\n",
    "else:\n",
    "    maximum = max(li)\n",
    "    number = 0\n",
    "    for i in li:\n",
    "        if number<i and i<maximum:\n",
    "            number=i\n",
    "    print(\"Second Maximum = \",number)"
   ]
  },
  {
   "cell_type": "markdown",
   "metadata": {},
   "source": [
    "### 14) WAP to extract elements with frequency greater than K."
   ]
  },
  {
   "cell_type": "code",
   "execution_count": 12,
   "metadata": {},
   "outputs": [
    {
     "name": "stdin",
     "output_type": "stream",
     "text": [
      "Enter space separated values : 4 2 3 5 2\n",
      "Enter value of k :  1\n"
     ]
    },
    {
     "name": "stdout",
     "output_type": "stream",
     "text": [
      "['2']\n"
     ]
    }
   ],
   "source": [
    "n = input(\"Enter space separated values :\")\n",
    "li = [i for i in n.split()]\n",
    "k = int(input(\"Enter value of k : \"))\n",
    "ans = set([i for i in li if li.count(i)>k])\n",
    "print(list(ans))"
   ]
  },
  {
   "cell_type": "markdown",
   "metadata": {},
   "source": [
    "### 15) WAP to create a list of squared numbers from 0 to 9 with and without using List Comprehension."
   ]
  },
  {
   "cell_type": "code",
   "execution_count": 14,
   "metadata": {},
   "outputs": [
    {
     "name": "stdout",
     "output_type": "stream",
     "text": [
      "Without List Comprehension ['4', '2', '3', '5', '2']\n",
      "With list comprehension :  [0, 1, 4, 9, 16, 25, 36, 49, 64, 81]\n"
     ]
    }
   ],
   "source": [
    "l1=[]\n",
    "for i in range(0,10):\n",
    "    l1.append(i**2)\n",
    "print(\"Without List Comprehension\",li)\n",
    "#With List Comprehension\n",
    "l2 = [i**2 for i in range(0,10)]\n",
    "print(\"With list comprehension : \",l2)"
   ]
  },
  {
   "cell_type": "markdown",
   "metadata": {},
   "source": [
    "### 16) WAP to create a new list (fruit whose name starts with 'b') from the list of fruits given by user."
   ]
  },
  {
   "cell_type": "code",
   "execution_count": 16,
   "metadata": {},
   "outputs": [
    {
     "name": "stdin",
     "output_type": "stream",
     "text": [
      "Enter space separated fruits :  banana\n"
     ]
    },
    {
     "name": "stdout",
     "output_type": "stream",
     "text": [
      "['banana']\n"
     ]
    }
   ],
   "source": [
    "n = input(\"Enter space separated fruits : \")\n",
    "li = [i for i in n.split()]\n",
    "fruits = [i for i in li if i.startswith(\"b\")]\n",
    "print(fruits)"
   ]
  },
  {
   "cell_type": "markdown",
   "metadata": {},
   "source": [
    "### 17) WAP to create a list of common elements from given two lists."
   ]
  },
  {
   "cell_type": "code",
   "execution_count": 18,
   "metadata": {},
   "outputs": [
    {
     "name": "stdin",
     "output_type": "stream",
     "text": [
      "Enter space separated values :  2 4 3 5 1\n",
      "Enter space separated values :  1 2 3 4 5\n"
     ]
    },
    {
     "name": "stdout",
     "output_type": "stream",
     "text": [
      "['2', '4', '3', '5', '1']\n"
     ]
    }
   ],
   "source": [
    "n1 = input(\"Enter space separated values : \")\n",
    "n2 = input(\"Enter space separated values : \")\n",
    "l1 = [i for i in n1.split()]\n",
    "l2 = [i for i in n2.split()]\n",
    "common = [x for x in l1 if x in l2]\n",
    "print(common)"
   ]
  }
 ],
 "metadata": {
  "kernelspec": {
   "display_name": "Python 3 (ipykernel)",
   "language": "python",
   "name": "python3"
  },
  "language_info": {
   "codemirror_mode": {
    "name": "ipython",
    "version": 3
   },
   "file_extension": ".py",
   "mimetype": "text/x-python",
   "name": "python",
   "nbconvert_exporter": "python",
   "pygments_lexer": "ipython3",
   "version": "3.12.7"
  }
 },
 "nbformat": 4,
 "nbformat_minor": 4
}
